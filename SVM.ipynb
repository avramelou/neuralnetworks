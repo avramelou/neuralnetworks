{
 "cells": [
  {
   "cell_type": "code",
   "execution_count": 1,
   "metadata": {
    "colab": {
     "base_uri": "https://localhost:8080/"
    },
    "id": "erA2fyvu4gqY",
    "outputId": "c6df0f36-d927-46e6-e014-ea9ea510bd54"
   },
   "outputs": [
    {
     "name": "stdout",
     "output_type": "stream",
     "text": [
      "Requirement already satisfied: qpsolvers in /usr/local/lib/python3.6/dist-packages (1.5)\n",
      "Requirement already satisfied: quadprog>=0.1.8 in /usr/local/lib/python3.6/dist-packages (from qpsolvers) (0.1.8)\n",
      "Requirement already satisfied: Cython in /usr/local/lib/python3.6/dist-packages (from quadprog>=0.1.8->qpsolvers) (0.29.21)\n"
     ]
    }
   ],
   "source": [
    "!pip install qpsolvers"
   ]
  },
  {
   "cell_type": "code",
   "execution_count": 2,
   "metadata": {
    "colab": {
     "base_uri": "https://localhost:8080/"
    },
    "id": "lyAhOiS4SQL3",
    "outputId": "4729fdf9-76a6-4a1c-aeab-a06483f1dd1a"
   },
   "outputs": [
    {
     "name": "stderr",
     "output_type": "stream",
     "text": [
      "/usr/local/lib/python3.6/dist-packages/sklearn/externals/six.py:31: FutureWarning: The module is deprecated in version 0.21 and will be removed in version 0.23 since we've dropped support for Python 2.7. Please rely on the official version of six (https://pypi.org/project/six/).\n",
      "  \"(https://pypi.org/project/six/).\", FutureWarning)\n",
      "/usr/local/lib/python3.6/dist-packages/sklearn/utils/deprecation.py:144: FutureWarning: The sklearn.neighbors.base module is  deprecated in version 0.22 and will be removed in version 0.24. The corresponding classes / functions should instead be imported from sklearn.neighbors. Anything that cannot be imported from sklearn.neighbors is now part of the private API.\n",
      "  warnings.warn(message, FutureWarning)\n"
     ]
    }
   ],
   "source": [
    "import pandas as pd\n",
    "from sklearn import svm\n",
    "from sklearn.model_selection import train_test_split\n",
    "from sklearn.metrics import accuracy_score\n",
    "import numpy as np\n",
    "from qpsolvers import solve_qp\n",
    "from sklearn.impute import SimpleImputer\n",
    "from sklearn.preprocessing import StandardScaler\n",
    "import time\n",
    "from sklearn.neighbors import KNeighborsClassifier\n",
    "from sklearn.neighbors import NearestCentroid \n",
    "from imblearn.under_sampling import RandomUnderSampler"
   ]
  },
  {
   "cell_type": "code",
   "execution_count": 3,
   "metadata": {
    "id": "RTqZa_Z5Sgqt"
   },
   "outputs": [],
   "source": [
    "# Συνάρτηση με την οποία μετατρέπουμε τα δεδομένα από αλφαριθμητικά σε αριθμητικά\n",
    "# δέχεται ως όρισμα ένα dataframe με τα δεδομένα\n",
    "# επιστρέφει το dataframe τροποποιημένο κατάλληλα\n",
    "def transform_data(data):\n",
    "  male = ['a','b']\n",
    "  married = ['u','y','l','t']\n",
    "  bankCustomer = ['g','p','gg']\n",
    "  educationLevel = ['c','d','cc','i','j','k','m','r','q','w','x','e','aa','ff']\n",
    "  ethnicity = ['v','h','bb','j','n','z','dd','ff','o']\n",
    "  priorDefault = ['t','f']\n",
    "  employed = ['t','f']\n",
    "  driverLicense = ['t','f']\n",
    "  citizen = ['g','p','s']\n",
    "  approved = ['-','+']\n",
    "  # για κάθε αλγαριθμητικό θα δώσουμε μια τιμή\n",
    "  for i,x in data.iterrows():\n",
    "    data.loc[i,'Male'] = male.index(x['Male'])\n",
    "    data.loc[i,'Married'] = married.index(x['Married'])\n",
    "    data.loc[i,'BankCustomer'] = bankCustomer.index(x['BankCustomer'])\n",
    "    data.loc[i,'EducationLevel'] = educationLevel.index(x['EducationLevel'])\n",
    "    data.loc[i,'Ethnicity'] = ethnicity.index(x['Ethnicity'])\n",
    "    data.loc[i,'PriorDefault'] = priorDefault.index(x['PriorDefault'])\n",
    "    data.loc[i,'Employed'] = employed.index(x['Employed'])\n",
    "    data.loc[i,'DriversLicense'] = driverLicense.index(x['DriversLicense'])\n",
    "    data.loc[i,'Citizen'] = citizen.index(x['Citizen'])\n",
    "    data.loc[i,'Approved'] = 2*(approved.index(x['Approved'])) -1 # κάνουμε αυτό τον διαχωρισμό για να έχουμε τιμές -1 και +1\n",
    "  data = data.drop(columns=['Key', 'ZipCode']) #διαγράφουμε τις στήλες που δεν χρειαζόμαστε\n",
    "  return data"
   ]
  },
  {
   "cell_type": "code",
   "execution_count": 4,
   "metadata": {
    "id": "4x3zvzddP2o9"
   },
   "outputs": [],
   "source": [
    "# φόρτωμα δεδομένων\n",
    "data = pd.read_csv('data.csv',delimiter=',')\n",
    "\n",
    "columns_data = data.columns # στήλες των δεδομένων\n",
    "\n",
    "# \"γέμισμα\" άγνωστων τιμών με τις πιο συχνές τιμές που συναντάμε στο αντίστοιχο πεδίο\n",
    "imp =SimpleImputer(missing_values='?', strategy='most_frequent')\n",
    "data = pd.DataFrame(imp.fit_transform(data),columns=columns_data)\n",
    "# μετατροπή δεδομένων σε αριθμητικά\n",
    "data = transform_data(data)\n",
    "\n",
    "# διαχωρισμός σε feutures και σε labels\n",
    "X = data.iloc[:,0:14]\n",
    "y = data.iloc[:,14]\n",
    "\n",
    "\n",
    "y=y.astype('int')\n",
    "X = X.astype('float')\n",
    "\n",
    "# χωρισμός dataset σε δεδομένα εκαπίδευσης και δεδομένα ελέγχου\n",
    "train_X,test_X,train_y,test_y = train_test_split(X,y,test_size=0.4)\n",
    "\n",
    "\n",
    "train_X = np.array(train_X)\n",
    "test_X = np.array(test_X)\n",
    "train_y = np.array(train_y)\n",
    "test_y = np.array(test_y)"
   ]
  },
  {
   "cell_type": "code",
   "execution_count": 65,
   "metadata": {
    "id": "04hBpk-WWprd"
   },
   "outputs": [],
   "source": [
    "# Συνάρτηση που υπολογίζει τον πυρήνα δύο διανυσμάτων\n",
    "# x,y είναι διανύσματα, kernel_type είναι ο τύπος του πυρήνα \n",
    "# και gamma το γ που χρησιμοποιείται για το πυρήνα gauss (μπορεί να παραλειφθεί στους άλλους πυρήνες)\n",
    "# η συνάρτηση επιστρέφει το αποτέλεσμα  \n",
    "def kernel(x,y,kernel_type,gamma=None):\n",
    "  if (kernel_type == 'linear'):\n",
    "    kernel = np.dot(x.T,y)\n",
    "  elif (kernel_type == 'poly'):\n",
    "    kernel = np.square((np.dot(x.T,y)+1))\n",
    "  elif (kernel_type == 'gaussian'):\n",
    "    temp = np.square(x - y)\n",
    "    temp = np.sum(temp)\n",
    "    kernel = np.exp((-gamma)*temp)\n",
    "  return kernel"
   ]
  },
  {
   "cell_type": "code",
   "execution_count": 66,
   "metadata": {
    "id": "5YgcAVjl_34Y"
   },
   "outputs": [],
   "source": [
    "n_samples = train_X.shape[0] # πλήθος δεδομένων εκπαίδευσης\n",
    "P = np.zeros((n_samples,n_samples)) # ΝΧΝ πίνακας \n",
    "kernel_type = 'gaussian' # τύπος πυρήνα\n",
    "gamma = 10 # γ για τον πυρήνα gauss\n",
    "\n",
    "# δημιουργία πίνακα P για την λύση του προβλήματος quadratic programming (άνω τριγωνικό)\n",
    "for i in range(n_samples):\n",
    "  for j in range(i,n_samples):\n",
    "   P[i][j] = train_y[i]*train_y[j]*kernel(train_X[i],train_X[j],kernel_type,gamma)\n",
    "\n",
    "# δημιουργία συμμετρικού πίνακα\n",
    "P = P + P.T - np.diag(np.diag(P))\n",
    "# πρόσθεση μίας μικρής τιμής στην διαγώνιο για να εξασφαλίσουμε ότι ο πίνακας θα είναι positive defitive\n",
    "min = np.amin(np.abs(P))\n",
    "P = P + np.eye(n_samples)*(min*0.01)"
   ]
  },
  {
   "cell_type": "code",
   "execution_count": 67,
   "metadata": {
    "colab": {
     "base_uri": "https://localhost:8080/"
    },
    "id": "elWg6ktFKD8P",
    "outputId": "3e23e8c5-b82c-41c0-fe2e-6944478f0778"
   },
   "outputs": [
    {
     "name": "stdout",
     "output_type": "stream",
     "text": [
      "Number of support vectors: 354\n"
     ]
    }
   ],
   "source": [
    "# δημιουργία και των υπόλοιπων πινάκων για την λύση του προβήματος του quadratic programming\n",
    "c=10\n",
    "q = np.ones(n_samples)*(-1)\n",
    "G = np.eye(n_samples) *(-1)\n",
    "h = np.zeros(n_samples)\n",
    "A = train_y.reshape((1,n_samples))\n",
    "b = np.zeros(1)\n",
    "lb = np.zeros(n_samples)\n",
    "ub = np.ones(n_samples)*c\n",
    "\n",
    "# λύση προβλήματος quadratic programming\n",
    "a = np.array(solve_qp(P,q,G,h,A,b,lb,ub),dtype='float64')\n",
    "\n",
    "# εύρεση πολλαπλασιαστών Lagrange που αντιστοιχούν σε διανύσματα υποστήριξης\n",
    "index_a = np.where((a>1e-6) & (a<c))\n",
    "\n",
    "# εύρεση διανυσματών υποστήριξης\n",
    "sv_X = train_X[index_a]\n",
    "sv_y = train_y[index_a]\n",
    "sv_a = a[index_a]\n",
    "# πλήθος διανυσμάτων υποστήριξης\n",
    "nsv = sv_X.shape[0]\n",
    "\n",
    "print(\"Number of support vectors: %d\" %nsv)"
   ]
  },
  {
   "cell_type": "code",
   "execution_count": 68,
   "metadata": {
    "id": "ZHF8tXgP2fTZ"
   },
   "outputs": [],
   "source": [
    "# υπολογισμός το bias\n",
    "b =np.sum(sv_y - np.dot(np.multiply(sv_a,sv_y),kernel(sv_X.T,sv_X.T,kernel_type,gamma)))\n",
    "b = b / nsv"
   ]
  },
  {
   "cell_type": "code",
   "execution_count": 69,
   "metadata": {
    "colab": {
     "base_uri": "https://localhost:8080/"
    },
    "id": "Pqjfes4rF0WW",
    "outputId": "88e666df-8ee5-4224-c940-9dc992dc22c9"
   },
   "outputs": [
    {
     "name": "stdout",
     "output_type": "stream",
     "text": [
      "Training Accuracy: 1.000000\n",
      "Testing Accuracy: 0.572034\n"
     ]
    }
   ],
   "source": [
    "# προβλεψη τιμών για τα δεδομένα εκπαίδευσης\n",
    "predicted_train = []\n",
    "for x in train_X:\n",
    "  k = []\n",
    "  for sv in sv_X:\n",
    "    k.append(kernel(sv,x,kernel_type,gamma))\n",
    "  w = np.dot(np.multiply(sv_a,sv_y).T,k)\n",
    "  y = w + b\n",
    "  predicted_train.append(np.sign(y))\n",
    "# εμφάνιση απόδοσης\n",
    "print(\"Training Accuracy: %f\" %(accuracy_score(train_y,predicted_train)))\n",
    "\n",
    "# προβλεψη τιμών για τα δεδομένα ελέγχου\n",
    "predicted_test = []\n",
    "for x in test_X:\n",
    "  k = []\n",
    "  for sv in sv_X:\n",
    "    k.append(kernel(sv,x,kernel_type,gamma))\n",
    "  w = np.dot(np.multiply(sv_a,sv_y).T,k)\n",
    "  y = w + b\n",
    "  predicted_test.append(np.sign(y))\n",
    "# εμφάνιση απόδοσης\n",
    "print(\"Testing Accuracy: %f\" %(accuracy_score(test_y,predicted_test)))"
   ]
  },
  {
   "cell_type": "markdown",
   "metadata": {
    "id": "JGuCfy5RkMji"
   },
   "source": [
    "SVM χρησιμοποιώντας έτοιμες συναρτήσεις"
   ]
  },
  {
   "cell_type": "code",
   "execution_count": 5,
   "metadata": {
    "colab": {
     "base_uri": "https://localhost:8080/"
    },
    "id": "qGTT2aItHlsZ",
    "outputId": "fa1a1f05-5aaa-4c86-bdee-8cf03c8ad4a2"
   },
   "outputs": [
    {
     "name": "stdout",
     "output_type": "stream",
     "text": [
      "Linear Kernel - Training Accuracy 0.898305\n",
      "Linear Kernel - Testing Accuracy 0.822034\n"
     ]
    }
   ],
   "source": [
    "# Γραμμικός πυρήνας\n",
    "clf = svm.SVC(kernel='linear',C=1)\n",
    "clf.fit(train_X,train_y)\n",
    "predicted_test = clf.predict(test_X)\n",
    "predicted_train = clf.predict(train_X)\n",
    "print(\"Linear Kernel - Training Accuracy %f\" %(accuracy_score(train_y,predicted_train)))\n",
    "print(\"Linear Kernel - Testing Accuracy %f\" %(accuracy_score(test_y,predicted_test)))"
   ]
  },
  {
   "cell_type": "code",
   "execution_count": 6,
   "metadata": {
    "colab": {
     "base_uri": "https://localhost:8080/"
    },
    "id": "aVgES65cZrPs",
    "outputId": "661e9d10-8602-4e3c-fdcb-e9ac4f8e51b8"
   },
   "outputs": [
    {
     "name": "stdout",
     "output_type": "stream",
     "text": [
      "Poly Kernel - Training Accuracy 0.646893\n",
      "Poly Kernel - Testing Accuracy 0.622881\n"
     ]
    }
   ],
   "source": [
    "# Πολυωνυμικός πυρήνας\n",
    "clf = svm.SVC(kernel='poly',degree=2,C=1)\n",
    "clf.fit(train_X,train_y)\n",
    "predicted_test = clf.predict(test_X)\n",
    "predicted_train = clf.predict(train_X)\n",
    "print(\"Poly Kernel - Training Accuracy %f\" %(accuracy_score(train_y,predicted_train)))\n",
    "print(\"Poly Kernel - Testing Accuracy %f\" %(accuracy_score(test_y,predicted_test)))"
   ]
  },
  {
   "cell_type": "code",
   "execution_count": 7,
   "metadata": {
    "colab": {
     "base_uri": "https://localhost:8080/"
    },
    "id": "A5K1R1SNmCEl",
    "outputId": "19c76d1e-9c1f-499d-99ae-83481ae796b8"
   },
   "outputs": [
    {
     "name": "stdout",
     "output_type": "stream",
     "text": [
      "Gauss Kernel - Training Accuracy 1.000000\n",
      "Gauss Kernel - Testing Accuracy 0.588983\n"
     ]
    }
   ],
   "source": [
    "#Πυρήνας Gauss\n",
    "clf = svm.SVC(kernel='rbf',gamma=10,C=1)\n",
    "clf.fit(train_X,train_y)\n",
    "predicted_test = clf.predict(test_X)\n",
    "predicted_train = clf.predict(train_X)\n",
    "print(\"Gauss Kernel - Training Accuracy %f\" %(accuracy_score(train_y,predicted_train)))\n",
    "print(\"Gauss Kernel - Testing Accuracy %f\" %(accuracy_score(test_y,predicted_test)))"
   ]
  },
  {
   "cell_type": "markdown",
   "metadata": {
    "id": "ophrhQo_7Vk1"
   },
   "source": [
    "Κατηγοριοποιητές Κ - πλησιέστερων γειτόνων και πλησιέστερου κέντρου"
   ]
  },
  {
   "cell_type": "code",
   "execution_count": 8,
   "metadata": {
    "colab": {
     "base_uri": "https://localhost:8080/"
    },
    "id": "N6SutoId7wfp",
    "outputId": "3480818b-ac20-426f-fe3b-5fe60d91ab02"
   },
   "outputs": [
    {
     "name": "stdout",
     "output_type": "stream",
     "text": [
      "1 - NEAREST NEIGHBOR\n",
      "Test time: 0.250891 sec\n",
      "Accuracy: 0.669492\n"
     ]
    }
   ],
   "source": [
    "model = KNeighborsClassifier(n_neighbors=1,p=2) # 1-ΝΝ\n",
    "model.fit(train_X, train_y)\n",
    "\n",
    "predicted_y = [] \n",
    "start = time.time()\n",
    "for i in range(0,len(test_X)):\n",
    "  y_i = model.predict([test_X[i]])\n",
    "  predicted_y = np.append(predicted_y,y_i)\n",
    "end = time.time()\n",
    "#εμφάνιση αποτελεσμάτων\n",
    "print(\"1 - NEAREST NEIGHBOR\")\n",
    "print(\"Test time: %f sec\" %(end-start))\n",
    "print(\"Accuracy: %f\" %(accuracy_score(test_y,predicted_y))) "
   ]
  },
  {
   "cell_type": "code",
   "execution_count": 9,
   "metadata": {
    "colab": {
     "base_uri": "https://localhost:8080/"
    },
    "id": "BPVD73mN8L3P",
    "outputId": "64fb396c-bba0-4e1c-d836-30c7adb678d7"
   },
   "outputs": [
    {
     "name": "stdout",
     "output_type": "stream",
     "text": [
      "3 - NEAREST NEIGHBORS\n",
      "Test time: 0.167686 sec\n",
      "Accuracy: 0.648305\n"
     ]
    }
   ],
   "source": [
    "model = KNeighborsClassifier(n_neighbors=3,p=2) # 3-ΝΝ\n",
    "model.fit(train_X, train_y)\n",
    "\n",
    "predicted_y = [] \n",
    "start = time.time()\n",
    "for i in range(0,len(test_X)):\n",
    "  y_i = model.predict([test_X[i]])\n",
    "  predicted_y = np.append(predicted_y,y_i)\n",
    "end = time.time()\n",
    "#εμφάνιση αποτελεσμάτων\n",
    "print(\"3 - NEAREST NEIGHBORS\")\n",
    "print(\"Test time: %f sec\" %(end-start))\n",
    "print(\"Accuracy: %f\" %(accuracy_score(test_y,predicted_y))) "
   ]
  },
  {
   "cell_type": "code",
   "execution_count": 10,
   "metadata": {
    "colab": {
     "base_uri": "https://localhost:8080/"
    },
    "id": "LQFa5xGioMfR",
    "outputId": "547c2426-8cfc-4f84-f2ca-056cabf2a3a9"
   },
   "outputs": [
    {
     "name": "stdout",
     "output_type": "stream",
     "text": [
      "NEAREST CENTROID\n",
      "Training time: 0.001156 sec\n",
      "Test time: 0.058834 sec\n",
      "Accuracy: 0.673729\n"
     ]
    }
   ],
   "source": [
    "print(\"NEAREST CENTROID\") \n",
    "model = NearestCentroid(metric='euclidean')\n",
    "start = time.time()\n",
    "model.fit(train_X,train_y)\n",
    "end = time.time()\n",
    "print(\"Training time: %f sec\" %(end-start))\n",
    "\n",
    "predicted_y = [] \n",
    "start = time.time()\n",
    "for i in range(0,len(test_X)):\n",
    "  y_i = model.predict([test_X[i]])\n",
    "  predicted_y = np.append(predicted_y,y_i)\n",
    "end = time.time()\n",
    "#εμφάνιση αποτελεσμάτων\n",
    "print(\"Test time: %f sec\" %(end-start))\n",
    "print(\"Accuracy: %f\" %(accuracy_score(test_y,predicted_y)))"
   ]
  },
  {
   "cell_type": "markdown",
   "metadata": {
    "id": "LK-3zWn4kepY"
   },
   "source": [
    "Επεξεργασία μεγαλύτερου συνόλου δεδομένων"
   ]
  },
  {
   "cell_type": "code",
   "execution_count": 11,
   "metadata": {
    "id": "UNu0xmCRAo6O"
   },
   "outputs": [],
   "source": [
    "# Συνάρτηση με την οποία μετατρέπουμε τα δεδομένα από αλφαριθμητικά σε αριθμητικά\n",
    "# δέχεται ως όρισμα ένα dataframe με τα δεδομένα\n",
    "# επιστρέφει το dataframe τροποποιημένο κατάλληλα\n",
    "def transform_data_big(data):\n",
    "  job = ['admin.', 'blue-collar', 'entrepreneur', 'housemaid', 'management', 'retired', 'self-employed', 'services', 'student', 'technician', 'unemployed']\n",
    "  marital_status = ['divorced', 'married', 'single']\n",
    "  education = ['Primary_Education', 'Professional_Education', 'Secondary_Education', 'Tertiary_Education']\n",
    "  ethnicity = ['v','h','bb','j','n','z','dd','ff','o','?']\n",
    "  default = ['no','yes']\n",
    "  housing_loan = ['no','yes']\n",
    "  personal_loan = ['no','yes']\n",
    "  subscribed = ['no','yes']\n",
    "  # για κάθε αλγαριθμητικό θα δώσουμε μια τιμή\n",
    "  for i,x in data.iterrows():\n",
    "    data.loc[i,'Job'] = job.index(x['Job'])\n",
    "    data.loc[i,'Marital_Status'] = marital_status.index(x['Marital_Status'])\n",
    "    data.loc[i,'Education'] = education.index(x['Education'])\n",
    "    data.loc[i,'Default_Credit'] = default.index(x['Default_Credit'])\n",
    "    data.loc[i,'Housing_Loan'] = housing_loan.index(x['Housing_Loan'])\n",
    "    data.loc[i,'Personal_Loan'] = personal_loan.index(x['Personal_Loan'])\n",
    "    data.loc[i,'Subscribed'] = 2*(subscribed.index(x['Subscribed'])) -1 # κάνουμε αυτό τον διαχωρισμό για να έχουμε τιμές -1 και +1\n",
    "  return data"
   ]
  },
  {
   "cell_type": "code",
   "execution_count": 12,
   "metadata": {
    "id": "lbTSUeIjESeC"
   },
   "outputs": [],
   "source": [
    "# φόρτωμα δεδομένων\n",
    "big_data = pd.read_csv('Alpha_bank.csv',delimiter=',')\n",
    "\n",
    "# μετατροπή δεδομένων σε αριθμητικά\n",
    "big_data = transform_data_big(big_data)\n",
    "\n",
    "# διαχωρισμός σε feutures και σε labels\n",
    "X = big_data.iloc[:,0:7]\n",
    "y = big_data.iloc[:,7]\n",
    "\n",
    "X = X.astype('float')\n",
    "y = y.astype('int')\n",
    "\n",
    "\n",
    "# χωρισμός dataset σε δεδομένα εκαπίδευσης και δεδομένα ελέγχου\n",
    "train_X,test_X,train_y,test_y = train_test_split(X,y,test_size=0.4)\n",
    "\n",
    "#κανονικοποίηση δεδομένων\n",
    "reg = StandardScaler()\n",
    "reg.fit(train_X)\n",
    "train_X = reg.transform(train_X)\n",
    "test_X = reg.transform(test_X)\n",
    "\n",
    "train_X = np.array(train_X)\n",
    "test_X = np.array(test_X)\n",
    "train_y = np.array(train_y)\n",
    "test_y = np.array(test_y)"
   ]
  },
  {
   "cell_type": "markdown",
   "metadata": {
    "id": "m7mX3btt81_X"
   },
   "source": [
    "SVM χρησιμοποιώντας έτοιμες συναρτήσεις"
   ]
  },
  {
   "cell_type": "code",
   "execution_count": 13,
   "metadata": {
    "colab": {
     "base_uri": "https://localhost:8080/"
    },
    "id": "yKifaF4p09dJ",
    "outputId": "32f5164d-335a-485a-a31f-e6c25f6e3843"
   },
   "outputs": [
    {
     "name": "stdout",
     "output_type": "stream",
     "text": [
      "Linear Kernel\n",
      "Training Time: 3.915600 sec\n",
      "Training Accuracy 0.874166 predicted in 0.871198 sec\n",
      "Testing Accuracy 0.872447 predicted in 0.591184 sec\n",
      "----------------------------------\n"
     ]
    }
   ],
   "source": [
    "# Γραμμικός πυρήνας\n",
    "clf = svm.SVC(kernel='linear',C=10)\n",
    "train_time = time.time()\n",
    "clf.fit(train_X,train_y)\n",
    "train_time = time.time() - train_time\n",
    "\n",
    "pred_time_train = time.time()\n",
    "predicted_train = clf.predict(train_X)\n",
    "pred_time_train = time.time() - pred_time_train\n",
    "\n",
    "pred_time_test = time.time()\n",
    "predicted_test = clf.predict(test_X)\n",
    "pred_time_test = time.time() - pred_time_test\n",
    "\n",
    "print(\"Linear Kernel\")\n",
    "print(\"Training Time: %f sec\" %(train_time))\n",
    "print(\"Training Accuracy %f predicted in %f sec\" %(accuracy_score(train_y,predicted_train),pred_time_train))\n",
    "print(\"Testing Accuracy %f predicted in %f sec\" %(accuracy_score(test_y,predicted_test),pred_time_test))\n",
    "print(\"----------------------------------\")"
   ]
  },
  {
   "cell_type": "code",
   "execution_count": 14,
   "metadata": {
    "colab": {
     "base_uri": "https://localhost:8080/"
    },
    "id": "ZmlwXaUtWF0K",
    "outputId": "20373211-cfda-4c6d-926f-e4fffb4dca46"
   },
   "outputs": [
    {
     "name": "stdout",
     "output_type": "stream",
     "text": [
      "Poly Kernel\n",
      "Training Time: 111.899092 sec\n",
      "Training Accuracy 0.874166 predicted in 1.562600 sec\n",
      "Testing Accuracy 0.872447 predicted in 1.060674 sec\n",
      "----------------------------------\n"
     ]
    }
   ],
   "source": [
    "# Πολυωνυμικός πυρήνας\n",
    "clf = svm.SVC(kernel='poly',C=10)\n",
    "train_time = time.time()\n",
    "clf.fit(train_X,train_y)\n",
    "train_time = time.time() - train_time\n",
    "\n",
    "pred_time_train = time.time()\n",
    "predicted_train = clf.predict(train_X) \n",
    "pred_time_train = time.time() - pred_time_train\n",
    "\n",
    "pred_time_test = time.time()\n",
    "predicted_test = clf.predict(test_X)\n",
    "pred_time_test = time.time() - pred_time_test\n",
    "\n",
    "print(\"Poly Kernel\")\n",
    "print(\"Training Time: %f sec\" %(train_time))\n",
    "print(\"Training Accuracy %f predicted in %f sec\" %(accuracy_score(train_y,predicted_train),pred_time_train))\n",
    "print(\"Testing Accuracy %f predicted in %f sec\" %(accuracy_score(test_y,predicted_test),pred_time_test))\n",
    "print(\"----------------------------------\")"
   ]
  },
  {
   "cell_type": "code",
   "execution_count": 15,
   "metadata": {
    "colab": {
     "base_uri": "https://localhost:8080/"
    },
    "id": "kAhF0yMzWIbm",
    "outputId": "cdfa0193-1d62-4f30-c7fe-112d615c9555"
   },
   "outputs": [
    {
     "name": "stdout",
     "output_type": "stream",
     "text": [
      "Gauss Kernel\n",
      "Training Time: 11.282272 sec\n",
      "Training Accuracy 0.876189 predicted in 3.493668 sec\n",
      "Testing Accuracy 0.871627 predicted in 2.362088 sec\n",
      "----------------------------------\n"
     ]
    }
   ],
   "source": [
    "clf = svm.SVC(kernel='rbf',C=1,gamma=1)\n",
    "train_time = time.time()\n",
    "clf.fit(train_X,train_y)\n",
    "train_time = time.time() - train_time\n",
    "\n",
    "pred_time_train = time.time()\n",
    "predicted_train = clf.predict(train_X)\n",
    "pred_time_train = time.time() - pred_time_train\n",
    "\n",
    "pred_time_test = time.time()\n",
    "predicted_test = clf.predict(test_X)\n",
    "pred_time_test = time.time() - pred_time_test\n",
    "\n",
    "print(\"Gauss Kernel\")\n",
    "print(\"Training Time: %f sec\" %(train_time))\n",
    "print(\"Training Accuracy %f predicted in %f sec\" %(accuracy_score(train_y,predicted_train),pred_time_train))\n",
    "print(\"Testing Accuracy %f predicted in %f sec\" %(accuracy_score(test_y,predicted_test),pred_time_test))\n",
    "print(\"----------------------------------\")"
   ]
  },
  {
   "cell_type": "markdown",
   "metadata": {
    "id": "qVsw90xR9Z4V"
   },
   "source": [
    "Κατηγοριοποιητές Κ - πλησιέστερων γειτόνων και πλησιέστερου κέντρου"
   ]
  },
  {
   "cell_type": "code",
   "execution_count": 16,
   "metadata": {
    "colab": {
     "base_uri": "https://localhost:8080/"
    },
    "id": "rOxuRAtlm8N0",
    "outputId": "889394ae-8a61-4810-992f-dddc1ed08d1a"
   },
   "outputs": [
    {
     "name": "stdout",
     "output_type": "stream",
     "text": [
      "1 - NEAREST NEIGHBOR\n",
      "Test time: 10.467595 sec\n",
      "Accuracy: 0.797227\n"
     ]
    }
   ],
   "source": [
    "model = KNeighborsClassifier(n_neighbors=1,p=2) # 1 - NN\n",
    "model.fit(train_X, train_y)\n",
    "\n",
    "predicted_y = [] \n",
    "start = time.time()\n",
    "for i in range(0,len(test_X)):\n",
    "  y_i = model.predict([test_X[i]])\n",
    "  predicted_y = np.append(predicted_y,y_i)\n",
    "end = time.time()\n",
    "#εμφάνιση αποτελεσμάτων\n",
    "print(\"1 - NEAREST NEIGHBOR\")\n",
    "print(\"Test time: %f sec\" %(end-start))\n",
    "print(\"Accuracy: %f\" %(accuracy_score(test_y,predicted_y))) "
   ]
  },
  {
   "cell_type": "code",
   "execution_count": 17,
   "metadata": {
    "colab": {
     "base_uri": "https://localhost:8080/"
    },
    "id": "rpSkboL9m_gY",
    "outputId": "6eeb31ac-469b-4e41-e8f8-090d4d5ed226"
   },
   "outputs": [
    {
     "name": "stdout",
     "output_type": "stream",
     "text": [
      "3 - NEAREST NEIGHBORS\n",
      "Test time: 9.499875 sec\n",
      "Accuracy: 0.842999\n"
     ]
    }
   ],
   "source": [
    "model = KNeighborsClassifier(n_neighbors=3,p=2) # 3 - ΝΝ\n",
    "model.fit(train_X, train_y)\n",
    "\n",
    "predicted_y = [] \n",
    "start = time.time()\n",
    "for i in range(0,len(test_X)):\n",
    "  y_i = model.predict([test_X[i]])\n",
    "  predicted_y = np.append(predicted_y,y_i)\n",
    "end = time.time()\n",
    "#εμφάνιση αποτελεσμάτων\n",
    "print(\"3 - NEAREST NEIGHBORS\")\n",
    "print(\"Test time: %f sec\" %(end-start))\n",
    "print(\"Accuracy: %f\" %(accuracy_score(test_y,predicted_y))) "
   ]
  },
  {
   "cell_type": "code",
   "execution_count": 18,
   "metadata": {
    "colab": {
     "base_uri": "https://localhost:8080/"
    },
    "id": "rcafKRRjnGGw",
    "outputId": "004c8613-e5f5-49bd-d9ed-9d4f23593923"
   },
   "outputs": [
    {
     "name": "stdout",
     "output_type": "stream",
     "text": [
      "NEAREST CENTROID\n",
      "Training time: 0.004254 sec\n",
      "Test time: 2.248772 sec\n",
      "Accuracy: 0.543270\n"
     ]
    }
   ],
   "source": [
    "print(\"NEAREST CENTROID\")\n",
    "model = NearestCentroid(metric='euclidean')\n",
    "start = time.time()\n",
    "model.fit(train_X,train_y)\n",
    "end = time.time()\n",
    "print(\"Training time: %f sec\" %(end-start))\n",
    "\n",
    "predicted_y = [] #outputs\n",
    "start = time.time()\n",
    "for i in range(0,len(test_X)):\n",
    "  y_i = model.predict([test_X[i]])\n",
    "  predicted_y = np.append(predicted_y,y_i)\n",
    "end = time.time()\n",
    "print(\"Test time: %f sec\" %(end-start))\n",
    "print(\"Accuracy: %f\" %(accuracy_score(test_y,predicted_y))) #print accuracy"
   ]
  },
  {
   "cell_type": "markdown",
   "metadata": {
    "id": "r1FOxFO7C9gr"
   },
   "source": [
    "Επεξεργασία δεδομένων με undersampling"
   ]
  },
  {
   "cell_type": "code",
   "execution_count": 19,
   "metadata": {
    "colab": {
     "base_uri": "https://localhost:8080/"
    },
    "id": "oEqAF1-H2Buk",
    "outputId": "0974ec9e-ca18-4ccc-a1ef-1a4b88579aae"
   },
   "outputs": [
    {
     "name": "stderr",
     "output_type": "stream",
     "text": [
      "/usr/local/lib/python3.6/dist-packages/sklearn/utils/deprecation.py:87: FutureWarning: Function safe_indexing is deprecated; safe_indexing is deprecated in version 0.22 and will be removed in version 0.24.\n",
      "  warnings.warn(msg, category=FutureWarning)\n"
     ]
    }
   ],
   "source": [
    "# φόρτωμα δεδομένων\n",
    "big_data = pd.read_csv('Alpha_bank.csv',delimiter=',')\n",
    "\n",
    "# μετατροπή δεδομένων σε αριθμητικά\n",
    "big_data = transform_data_big(big_data)\n",
    "\n",
    "# διαχωρισμός σε feutures και σε labels\n",
    "X = big_data.iloc[:,0:7]\n",
    "y = big_data.iloc[:,7]\n",
    "\n",
    "X = X.astype('float')\n",
    "y = y.astype('int')\n",
    "\n",
    "# udersampling δειγμάτων\n",
    "rus = RandomUnderSampler()\n",
    "X,y = rus.fit_resample(X,y)\n",
    "\n",
    "# χωρισμός dataset σε δεδομένα εκαπίδευσης και δεδομένα ελέγχου\n",
    "train_X,test_X,train_y,test_y = train_test_split(X,y,test_size=0.4)\n",
    "\n",
    "# κανονικοποίηση δεδομένων\n",
    "reg = StandardScaler()\n",
    "reg.fit(train_X)\n",
    "train_X = reg.transform(train_X)\n",
    "test_X = reg.transform(test_X)\n",
    "\n",
    "train_X = np.array(train_X)\n",
    "test_X = np.array(test_X)\n",
    "train_y = np.array(train_y)\n",
    "test_y = np.array(test_y)"
   ]
  },
  {
   "cell_type": "code",
   "execution_count": 20,
   "metadata": {
    "colab": {
     "base_uri": "https://localhost:8080/"
    },
    "id": "lklH9FBj6PIU",
    "outputId": "b3d25ef8-b877-4c51-da39-ed9830776e7f"
   },
   "outputs": [
    {
     "name": "stdout",
     "output_type": "stream",
     "text": [
      "Linear Kernel\n",
      "Training Time: 0.843998 sec\n",
      "Training Accuracy 0.552410 predicted in 0.203805 sec\n",
      "Testing Accuracy 0.547488 predicted in 0.131043 sec\n",
      "----------------------------------\n"
     ]
    }
   ],
   "source": [
    "clf = svm.SVC(kernel='linear',C=1) # γραμμικός πυρήνας\n",
    "train_time = time.time()\n",
    "clf.fit(train_X,train_y)\n",
    "train_time = time.time() - train_time\n",
    "\n",
    "pred_time_train = time.time()\n",
    "predicted_train = clf.predict(train_X)\n",
    "pred_time_train = time.time() - pred_time_train\n",
    "\n",
    "pred_time_test = time.time()\n",
    "predicted_test = clf.predict(test_X)\n",
    "pred_time_test = time.time() - pred_time_test\n",
    "\n",
    "print(\"Linear Kernel\")\n",
    "print(\"Training Time: %f sec\" %(train_time))\n",
    "print(\"Training Accuracy %f predicted in %f sec\" %(accuracy_score(train_y,predicted_train),pred_time_train))\n",
    "print(\"Testing Accuracy %f predicted in %f sec\" %(accuracy_score(test_y,predicted_test),pred_time_test))\n",
    "print(\"----------------------------------\")"
   ]
  },
  {
   "cell_type": "code",
   "execution_count": 21,
   "metadata": {
    "colab": {
     "base_uri": "https://localhost:8080/"
    },
    "id": "qzyFeO8D6Tip",
    "outputId": "af8d5dc8-153d-4ed4-b7f9-f1e95ce48a8f"
   },
   "outputs": [
    {
     "name": "stdout",
     "output_type": "stream",
     "text": [
      "Poly Kernel\n",
      "Training Time: 0.710261 sec\n",
      "Training Accuracy 0.574887 predicted in 0.245987 sec\n",
      "Testing Accuracy 0.558185 predicted in 0.161396 sec\n",
      "----------------------------------\n"
     ]
    }
   ],
   "source": [
    "clf = svm.SVC(kernel='poly',C=1) # πολωνυμικός πυρήνας\n",
    "train_time = time.time()\n",
    "clf.fit(train_X,train_y)\n",
    "train_time = time.time() - train_time\n",
    "\n",
    "pred_time_train = time.time()\n",
    "predicted_train = clf.predict(train_X) \n",
    "pred_time_train = time.time() - pred_time_train\n",
    "\n",
    "pred_time_test = time.time()\n",
    "predicted_test = clf.predict(test_X)\n",
    "pred_time_test = time.time() - pred_time_test\n",
    "\n",
    "print(\"Poly Kernel\")\n",
    "print(\"Training Time: %f sec\" %(train_time))\n",
    "print(\"Training Accuracy %f predicted in %f sec\" %(accuracy_score(train_y,predicted_train),pred_time_train))\n",
    "print(\"Testing Accuracy %f predicted in %f sec\" %(accuracy_score(test_y,predicted_test),pred_time_test))\n",
    "print(\"----------------------------------\")"
   ]
  },
  {
   "cell_type": "code",
   "execution_count": 22,
   "metadata": {
    "colab": {
     "base_uri": "https://localhost:8080/"
    },
    "id": "Y64ipf3x6VFJ",
    "outputId": "da4f1bda-32cc-48f1-9ffa-d1eed891d4fc"
   },
   "outputs": [
    {
     "name": "stdout",
     "output_type": "stream",
     "text": [
      "Gauss Kernel\n",
      "Training Time: 1.109299 sec\n",
      "Training Accuracy 0.725092 predicted in 0.594000 sec\n",
      "Testing Accuracy 0.554295 predicted in 0.395113 sec\n",
      "----------------------------------\n"
     ]
    }
   ],
   "source": [
    "clf = svm.SVC(kernel='rbf',C=1,gamma=10) #πυρήνας Gauss\n",
    "train_time = time.time()\n",
    "clf.fit(train_X,train_y)\n",
    "train_time = time.time() - train_time\n",
    "\n",
    "pred_time_train = time.time()\n",
    "predicted_train = clf.predict(train_X) \n",
    "pred_time_train = time.time() - pred_time_train\n",
    "\n",
    "pred_time_test = time.time()\n",
    "predicted_test = clf.predict(test_X)\n",
    "pred_time_test = time.time() - pred_time_test\n",
    "\n",
    "print(\"Gauss Kernel\")\n",
    "print(\"Training Time: %f sec\" %(train_time))\n",
    "print(\"Training Accuracy %f predicted in %f sec\" %(accuracy_score(train_y,predicted_train),pred_time_train))\n",
    "print(\"Testing Accuracy %f predicted in %f sec\" %(accuracy_score(test_y,predicted_test),pred_time_test))\n",
    "print(\"----------------------------------\")"
   ]
  },
  {
   "cell_type": "markdown",
   "metadata": {
    "id": "tL-bWFLS-W7b"
   },
   "source": [
    "Κατηγοριοποιητές Κ - πλησιέστερων γειτόνων και πλησιέστερου κέντρου"
   ]
  },
  {
   "cell_type": "code",
   "execution_count": 23,
   "metadata": {
    "colab": {
     "base_uri": "https://localhost:8080/"
    },
    "id": "bcH4vpCnWCrC",
    "outputId": "e0c0beb8-3826-471f-80c6-d2cf8ac42c99"
   },
   "outputs": [
    {
     "name": "stdout",
     "output_type": "stream",
     "text": [
      "1 - NEAREST NEIGHBOR\n",
      "Test time: 2.142921 sec\n",
      "Accuracy: 0.525446\n"
     ]
    }
   ],
   "source": [
    "model = KNeighborsClassifier(n_neighbors=1,p=2) # 1- NN\n",
    "model.fit(train_X, train_y)\n",
    "\n",
    "predicted_y = [] \n",
    "start = time.time()\n",
    "for i in range(0,len(test_X)):\n",
    "  y_i = model.predict([test_X[i]])\n",
    "  predicted_y = np.append(predicted_y,y_i)\n",
    "end = time.time()\n",
    "#εμφάνιση αποτελεσμάτων\n",
    "print(\"1 - NEAREST NEIGHBOR\")\n",
    "print(\"Test time: %f sec\" %(end-start))\n",
    "print(\"Accuracy: %f\" %(accuracy_score(test_y,predicted_y))) "
   ]
  },
  {
   "cell_type": "code",
   "execution_count": 24,
   "metadata": {
    "colab": {
     "base_uri": "https://localhost:8080/"
    },
    "id": "g63KRJ4AWQmm",
    "outputId": "f57acbd2-68b7-4316-fede-8890606bd1a5"
   },
   "outputs": [
    {
     "name": "stdout",
     "output_type": "stream",
     "text": [
      "3 - NEAREST NEIGHBORS\n",
      "Test time: 2.133913 sec\n",
      "Accuracy: 0.533549\n"
     ]
    }
   ],
   "source": [
    "model = KNeighborsClassifier(n_neighbors=3,p=2) # 3-ΝΝ\n",
    "model.fit(train_X, train_y)\n",
    "\n",
    "predicted_y = [] \n",
    "start = time.time()\n",
    "for i in range(0,len(test_X)):\n",
    "  y_i = model.predict([test_X[i]])\n",
    "  predicted_y = np.append(predicted_y,y_i)\n",
    "end = time.time()\n",
    "# εμφάνιση αποτελεσμάτων\n",
    "print(\"3 - NEAREST NEIGHBORS\")\n",
    "print(\"Test time: %f sec\" %(end-start))\n",
    "print(\"Accuracy: %f\" %(accuracy_score(test_y,predicted_y))) "
   ]
  },
  {
   "cell_type": "code",
   "execution_count": 25,
   "metadata": {
    "colab": {
     "base_uri": "https://localhost:8080/"
    },
    "id": "DIsp7VglWa9B",
    "outputId": "faa8c831-40aa-456e-fb8e-66124978f40a"
   },
   "outputs": [
    {
     "name": "stdout",
     "output_type": "stream",
     "text": [
      "NEAREST CENTROID\n",
      "Training time: 0.001134 sec\n",
      "Test time: 0.603789 sec\n",
      "Accuracy: 0.533874\n"
     ]
    }
   ],
   "source": [
    "print(\"NEAREST CENTROID\")\n",
    "model = NearestCentroid(metric='euclidean')\n",
    "start = time.time()\n",
    "model.fit(train_X,train_y)\n",
    "end = time.time()\n",
    "print(\"Training time: %f sec\" %(end-start))\n",
    "\n",
    "predicted_y = [] \n",
    "start = time.time()\n",
    "for i in range(0,len(test_X)):\n",
    "  y_i = model.predict([test_X[i]])\n",
    "  predicted_y = np.append(predicted_y,y_i)\n",
    "end = time.time()\n",
    "#εμφάνιση αποτελεσμάτων\n",
    "print(\"Test time: %f sec\" %(end-start))\n",
    "print(\"Accuracy: %f\" %(accuracy_score(test_y,predicted_y)))"
   ]
  }
 ],
 "metadata": {
  "colab": {
   "collapsed_sections": [],
   "name": "Untitled1.ipynb",
   "provenance": []
  },
  "kernelspec": {
   "display_name": "Python 3",
   "language": "python",
   "name": "python3"
  },
  "language_info": {
   "codemirror_mode": {
    "name": "ipython",
    "version": 3
   },
   "file_extension": ".py",
   "mimetype": "text/x-python",
   "name": "python",
   "nbconvert_exporter": "python",
   "pygments_lexer": "ipython3",
   "version": "3.8.3"
  }
 },
 "nbformat": 4,
 "nbformat_minor": 1
}
